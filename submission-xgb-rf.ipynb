{
 "cells": [
  {
   "cell_type": "code",
   "execution_count": 1,
   "id": "c8fda3b8",
   "metadata": {
    "_cell_guid": "b1076dfc-b9ad-4769-8c92-a6c4dae69d19",
    "_uuid": "8f2839f25d086af736a60e9eeb907d3b93b6e0e5",
    "execution": {
     "iopub.execute_input": "2025-09-10T11:31:40.769052Z",
     "iopub.status.busy": "2025-09-10T11:31:40.768628Z",
     "iopub.status.idle": "2025-09-10T11:31:46.247390Z",
     "shell.execute_reply": "2025-09-10T11:31:46.246590Z"
    },
    "papermill": {
     "duration": 5.487529,
     "end_time": "2025-09-10T11:31:46.249089",
     "exception": false,
     "start_time": "2025-09-10T11:31:40.761560",
     "status": "completed"
    },
    "tags": []
   },
   "outputs": [],
   "source": [
    "# Basic libraries\n",
    "import pandas as pd\n",
    "import numpy as np\n",
    "import matplotlib.pyplot as plt\n",
    "import seaborn as sns\n",
    "import os\n",
    "\n",
    "# Preprocessing\n",
    "from sklearn.preprocessing import LabelEncoder, RobustScaler, StandardScaler\n",
    "import category_encoders as ce\n",
    "\n",
    "# Model selection & evaluation\n",
    "from sklearn.model_selection import train_test_split\n",
    "from sklearn.metrics import (\n",
    "    roc_curve, auc, roc_auc_score, \n",
    "    classification_report, confusion_matrix, ConfusionMatrixDisplay\n",
    ")\n",
    "\n",
    "# Machine Learning models\n",
    "from sklearn.ensemble import RandomForestClassifier\n",
    "import xgboost as xgb"
   ]
  },
  {
   "cell_type": "code",
   "execution_count": 2,
   "id": "457d3106",
   "metadata": {
    "execution": {
     "iopub.execute_input": "2025-09-10T11:31:46.261203Z",
     "iopub.status.busy": "2025-09-10T11:31:46.260695Z",
     "iopub.status.idle": "2025-09-10T11:31:48.688092Z",
     "shell.execute_reply": "2025-09-10T11:31:48.687104Z"
    },
    "papermill": {
     "duration": 2.435042,
     "end_time": "2025-09-10T11:31:48.689734",
     "exception": false,
     "start_time": "2025-09-10T11:31:46.254692",
     "status": "completed"
    },
    "tags": []
   },
   "outputs": [
    {
     "data": {
      "text/html": [
       "<div>\n",
       "<style scoped>\n",
       "    .dataframe tbody tr th:only-of-type {\n",
       "        vertical-align: middle;\n",
       "    }\n",
       "\n",
       "    .dataframe tbody tr th {\n",
       "        vertical-align: top;\n",
       "    }\n",
       "\n",
       "    .dataframe thead th {\n",
       "        text-align: right;\n",
       "    }\n",
       "</style>\n",
       "<table border=\"1\" class=\"dataframe\">\n",
       "  <thead>\n",
       "    <tr style=\"text-align: right;\">\n",
       "      <th></th>\n",
       "      <th>id</th>\n",
       "      <th>age</th>\n",
       "      <th>job</th>\n",
       "      <th>marital</th>\n",
       "      <th>education</th>\n",
       "      <th>default</th>\n",
       "      <th>balance</th>\n",
       "      <th>housing</th>\n",
       "      <th>loan</th>\n",
       "      <th>contact</th>\n",
       "      <th>day</th>\n",
       "      <th>month</th>\n",
       "      <th>duration</th>\n",
       "      <th>campaign</th>\n",
       "      <th>pdays</th>\n",
       "      <th>previous</th>\n",
       "      <th>poutcome</th>\n",
       "      <th>y</th>\n",
       "    </tr>\n",
       "  </thead>\n",
       "  <tbody>\n",
       "    <tr>\n",
       "      <th>0</th>\n",
       "      <td>0</td>\n",
       "      <td>42</td>\n",
       "      <td>technician</td>\n",
       "      <td>married</td>\n",
       "      <td>secondary</td>\n",
       "      <td>no</td>\n",
       "      <td>7</td>\n",
       "      <td>no</td>\n",
       "      <td>no</td>\n",
       "      <td>cellular</td>\n",
       "      <td>25</td>\n",
       "      <td>aug</td>\n",
       "      <td>117</td>\n",
       "      <td>3</td>\n",
       "      <td>-1</td>\n",
       "      <td>0</td>\n",
       "      <td>unknown</td>\n",
       "      <td>0</td>\n",
       "    </tr>\n",
       "    <tr>\n",
       "      <th>1</th>\n",
       "      <td>1</td>\n",
       "      <td>38</td>\n",
       "      <td>blue-collar</td>\n",
       "      <td>married</td>\n",
       "      <td>secondary</td>\n",
       "      <td>no</td>\n",
       "      <td>514</td>\n",
       "      <td>no</td>\n",
       "      <td>no</td>\n",
       "      <td>unknown</td>\n",
       "      <td>18</td>\n",
       "      <td>jun</td>\n",
       "      <td>185</td>\n",
       "      <td>1</td>\n",
       "      <td>-1</td>\n",
       "      <td>0</td>\n",
       "      <td>unknown</td>\n",
       "      <td>0</td>\n",
       "    </tr>\n",
       "    <tr>\n",
       "      <th>2</th>\n",
       "      <td>2</td>\n",
       "      <td>36</td>\n",
       "      <td>blue-collar</td>\n",
       "      <td>married</td>\n",
       "      <td>secondary</td>\n",
       "      <td>no</td>\n",
       "      <td>602</td>\n",
       "      <td>yes</td>\n",
       "      <td>no</td>\n",
       "      <td>unknown</td>\n",
       "      <td>14</td>\n",
       "      <td>may</td>\n",
       "      <td>111</td>\n",
       "      <td>2</td>\n",
       "      <td>-1</td>\n",
       "      <td>0</td>\n",
       "      <td>unknown</td>\n",
       "      <td>0</td>\n",
       "    </tr>\n",
       "    <tr>\n",
       "      <th>3</th>\n",
       "      <td>3</td>\n",
       "      <td>27</td>\n",
       "      <td>student</td>\n",
       "      <td>single</td>\n",
       "      <td>secondary</td>\n",
       "      <td>no</td>\n",
       "      <td>34</td>\n",
       "      <td>yes</td>\n",
       "      <td>no</td>\n",
       "      <td>unknown</td>\n",
       "      <td>28</td>\n",
       "      <td>may</td>\n",
       "      <td>10</td>\n",
       "      <td>2</td>\n",
       "      <td>-1</td>\n",
       "      <td>0</td>\n",
       "      <td>unknown</td>\n",
       "      <td>0</td>\n",
       "    </tr>\n",
       "    <tr>\n",
       "      <th>4</th>\n",
       "      <td>4</td>\n",
       "      <td>26</td>\n",
       "      <td>technician</td>\n",
       "      <td>married</td>\n",
       "      <td>secondary</td>\n",
       "      <td>no</td>\n",
       "      <td>889</td>\n",
       "      <td>yes</td>\n",
       "      <td>no</td>\n",
       "      <td>cellular</td>\n",
       "      <td>3</td>\n",
       "      <td>feb</td>\n",
       "      <td>902</td>\n",
       "      <td>1</td>\n",
       "      <td>-1</td>\n",
       "      <td>0</td>\n",
       "      <td>unknown</td>\n",
       "      <td>1</td>\n",
       "    </tr>\n",
       "  </tbody>\n",
       "</table>\n",
       "</div>"
      ],
      "text/plain": [
       "   id  age          job  marital  education default  balance housing loan  \\\n",
       "0   0   42   technician  married  secondary      no        7      no   no   \n",
       "1   1   38  blue-collar  married  secondary      no      514      no   no   \n",
       "2   2   36  blue-collar  married  secondary      no      602     yes   no   \n",
       "3   3   27      student   single  secondary      no       34     yes   no   \n",
       "4   4   26   technician  married  secondary      no      889     yes   no   \n",
       "\n",
       "    contact  day month  duration  campaign  pdays  previous poutcome  y  \n",
       "0  cellular   25   aug       117         3     -1         0  unknown  0  \n",
       "1   unknown   18   jun       185         1     -1         0  unknown  0  \n",
       "2   unknown   14   may       111         2     -1         0  unknown  0  \n",
       "3   unknown   28   may        10         2     -1         0  unknown  0  \n",
       "4  cellular    3   feb       902         1     -1         0  unknown  1  "
      ]
     },
     "execution_count": 2,
     "metadata": {},
     "output_type": "execute_result"
    }
   ],
   "source": [
    "train = pd.read_csv(\"/kaggle/input/playground-series-s5e8/train.csv\")\n",
    "train.head()"
   ]
  },
  {
   "cell_type": "code",
   "execution_count": 3,
   "id": "05251cc4",
   "metadata": {
    "execution": {
     "iopub.execute_input": "2025-09-10T11:31:48.702436Z",
     "iopub.status.busy": "2025-09-10T11:31:48.701706Z",
     "iopub.status.idle": "2025-09-10T11:31:49.511171Z",
     "shell.execute_reply": "2025-09-10T11:31:49.510304Z"
    },
    "papermill": {
     "duration": 0.817552,
     "end_time": "2025-09-10T11:31:49.512861",
     "exception": false,
     "start_time": "2025-09-10T11:31:48.695309",
     "status": "completed"
    },
    "tags": []
   },
   "outputs": [
    {
     "data": {
      "text/html": [
       "<div>\n",
       "<style scoped>\n",
       "    .dataframe tbody tr th:only-of-type {\n",
       "        vertical-align: middle;\n",
       "    }\n",
       "\n",
       "    .dataframe tbody tr th {\n",
       "        vertical-align: top;\n",
       "    }\n",
       "\n",
       "    .dataframe thead th {\n",
       "        text-align: right;\n",
       "    }\n",
       "</style>\n",
       "<table border=\"1\" class=\"dataframe\">\n",
       "  <thead>\n",
       "    <tr style=\"text-align: right;\">\n",
       "      <th></th>\n",
       "      <th>id</th>\n",
       "      <th>age</th>\n",
       "      <th>job</th>\n",
       "      <th>marital</th>\n",
       "      <th>education</th>\n",
       "      <th>default</th>\n",
       "      <th>balance</th>\n",
       "      <th>housing</th>\n",
       "      <th>loan</th>\n",
       "      <th>contact</th>\n",
       "      <th>day</th>\n",
       "      <th>month</th>\n",
       "      <th>duration</th>\n",
       "      <th>campaign</th>\n",
       "      <th>pdays</th>\n",
       "      <th>previous</th>\n",
       "      <th>poutcome</th>\n",
       "    </tr>\n",
       "  </thead>\n",
       "  <tbody>\n",
       "    <tr>\n",
       "      <th>0</th>\n",
       "      <td>750000</td>\n",
       "      <td>32</td>\n",
       "      <td>blue-collar</td>\n",
       "      <td>married</td>\n",
       "      <td>secondary</td>\n",
       "      <td>no</td>\n",
       "      <td>1397</td>\n",
       "      <td>yes</td>\n",
       "      <td>no</td>\n",
       "      <td>unknown</td>\n",
       "      <td>21</td>\n",
       "      <td>may</td>\n",
       "      <td>224</td>\n",
       "      <td>1</td>\n",
       "      <td>-1</td>\n",
       "      <td>0</td>\n",
       "      <td>unknown</td>\n",
       "    </tr>\n",
       "    <tr>\n",
       "      <th>1</th>\n",
       "      <td>750001</td>\n",
       "      <td>44</td>\n",
       "      <td>management</td>\n",
       "      <td>married</td>\n",
       "      <td>tertiary</td>\n",
       "      <td>no</td>\n",
       "      <td>23</td>\n",
       "      <td>yes</td>\n",
       "      <td>no</td>\n",
       "      <td>cellular</td>\n",
       "      <td>3</td>\n",
       "      <td>apr</td>\n",
       "      <td>586</td>\n",
       "      <td>2</td>\n",
       "      <td>-1</td>\n",
       "      <td>0</td>\n",
       "      <td>unknown</td>\n",
       "    </tr>\n",
       "    <tr>\n",
       "      <th>2</th>\n",
       "      <td>750002</td>\n",
       "      <td>36</td>\n",
       "      <td>self-employed</td>\n",
       "      <td>married</td>\n",
       "      <td>primary</td>\n",
       "      <td>no</td>\n",
       "      <td>46</td>\n",
       "      <td>yes</td>\n",
       "      <td>yes</td>\n",
       "      <td>cellular</td>\n",
       "      <td>13</td>\n",
       "      <td>may</td>\n",
       "      <td>111</td>\n",
       "      <td>2</td>\n",
       "      <td>-1</td>\n",
       "      <td>0</td>\n",
       "      <td>unknown</td>\n",
       "    </tr>\n",
       "    <tr>\n",
       "      <th>3</th>\n",
       "      <td>750003</td>\n",
       "      <td>58</td>\n",
       "      <td>blue-collar</td>\n",
       "      <td>married</td>\n",
       "      <td>secondary</td>\n",
       "      <td>no</td>\n",
       "      <td>-1380</td>\n",
       "      <td>yes</td>\n",
       "      <td>yes</td>\n",
       "      <td>unknown</td>\n",
       "      <td>29</td>\n",
       "      <td>may</td>\n",
       "      <td>125</td>\n",
       "      <td>1</td>\n",
       "      <td>-1</td>\n",
       "      <td>0</td>\n",
       "      <td>unknown</td>\n",
       "    </tr>\n",
       "    <tr>\n",
       "      <th>4</th>\n",
       "      <td>750004</td>\n",
       "      <td>28</td>\n",
       "      <td>technician</td>\n",
       "      <td>single</td>\n",
       "      <td>secondary</td>\n",
       "      <td>no</td>\n",
       "      <td>1950</td>\n",
       "      <td>yes</td>\n",
       "      <td>no</td>\n",
       "      <td>cellular</td>\n",
       "      <td>22</td>\n",
       "      <td>jul</td>\n",
       "      <td>181</td>\n",
       "      <td>1</td>\n",
       "      <td>-1</td>\n",
       "      <td>0</td>\n",
       "      <td>unknown</td>\n",
       "    </tr>\n",
       "  </tbody>\n",
       "</table>\n",
       "</div>"
      ],
      "text/plain": [
       "       id  age            job  marital  education default  balance housing  \\\n",
       "0  750000   32    blue-collar  married  secondary      no     1397     yes   \n",
       "1  750001   44     management  married   tertiary      no       23     yes   \n",
       "2  750002   36  self-employed  married    primary      no       46     yes   \n",
       "3  750003   58    blue-collar  married  secondary      no    -1380     yes   \n",
       "4  750004   28     technician   single  secondary      no     1950     yes   \n",
       "\n",
       "  loan   contact  day month  duration  campaign  pdays  previous poutcome  \n",
       "0   no   unknown   21   may       224         1     -1         0  unknown  \n",
       "1   no  cellular    3   apr       586         2     -1         0  unknown  \n",
       "2  yes  cellular   13   may       111         2     -1         0  unknown  \n",
       "3  yes   unknown   29   may       125         1     -1         0  unknown  \n",
       "4   no  cellular   22   jul       181         1     -1         0  unknown  "
      ]
     },
     "execution_count": 3,
     "metadata": {},
     "output_type": "execute_result"
    }
   ],
   "source": [
    "test  = pd.read_csv(\"/kaggle/input/playground-series-s5e8/test.csv\")\n",
    "test.head()"
   ]
  },
  {
   "cell_type": "code",
   "execution_count": 4,
   "id": "c8b94dec",
   "metadata": {
    "execution": {
     "iopub.execute_input": "2025-09-10T11:31:49.526864Z",
     "iopub.status.busy": "2025-09-10T11:31:49.526243Z",
     "iopub.status.idle": "2025-09-10T11:31:49.611997Z",
     "shell.execute_reply": "2025-09-10T11:31:49.610901Z"
    },
    "papermill": {
     "duration": 0.093765,
     "end_time": "2025-09-10T11:31:49.613615",
     "exception": false,
     "start_time": "2025-09-10T11:31:49.519850",
     "status": "completed"
    },
    "tags": []
   },
   "outputs": [
    {
     "data": {
      "text/html": [
       "<div>\n",
       "<style scoped>\n",
       "    .dataframe tbody tr th:only-of-type {\n",
       "        vertical-align: middle;\n",
       "    }\n",
       "\n",
       "    .dataframe tbody tr th {\n",
       "        vertical-align: top;\n",
       "    }\n",
       "\n",
       "    .dataframe thead th {\n",
       "        text-align: right;\n",
       "    }\n",
       "</style>\n",
       "<table border=\"1\" class=\"dataframe\">\n",
       "  <thead>\n",
       "    <tr style=\"text-align: right;\">\n",
       "      <th></th>\n",
       "      <th>id</th>\n",
       "      <th>y</th>\n",
       "    </tr>\n",
       "  </thead>\n",
       "  <tbody>\n",
       "    <tr>\n",
       "      <th>0</th>\n",
       "      <td>750000</td>\n",
       "      <td>0.5</td>\n",
       "    </tr>\n",
       "    <tr>\n",
       "      <th>1</th>\n",
       "      <td>750001</td>\n",
       "      <td>0.5</td>\n",
       "    </tr>\n",
       "    <tr>\n",
       "      <th>2</th>\n",
       "      <td>750002</td>\n",
       "      <td>0.5</td>\n",
       "    </tr>\n",
       "    <tr>\n",
       "      <th>3</th>\n",
       "      <td>750003</td>\n",
       "      <td>0.5</td>\n",
       "    </tr>\n",
       "    <tr>\n",
       "      <th>4</th>\n",
       "      <td>750004</td>\n",
       "      <td>0.5</td>\n",
       "    </tr>\n",
       "  </tbody>\n",
       "</table>\n",
       "</div>"
      ],
      "text/plain": [
       "       id    y\n",
       "0  750000  0.5\n",
       "1  750001  0.5\n",
       "2  750002  0.5\n",
       "3  750003  0.5\n",
       "4  750004  0.5"
      ]
     },
     "execution_count": 4,
     "metadata": {},
     "output_type": "execute_result"
    }
   ],
   "source": [
    "sample_submission = pd.read_csv(\"/kaggle/input/playground-series-s5e8/sample_submission.csv\")\n",
    "sample_submission.head()"
   ]
  },
  {
   "cell_type": "code",
   "execution_count": 5,
   "id": "7da6964a",
   "metadata": {
    "execution": {
     "iopub.execute_input": "2025-09-10T11:31:49.626220Z",
     "iopub.status.busy": "2025-09-10T11:31:49.625864Z",
     "iopub.status.idle": "2025-09-10T11:31:49.632164Z",
     "shell.execute_reply": "2025-09-10T11:31:49.631193Z"
    },
    "papermill": {
     "duration": 0.014211,
     "end_time": "2025-09-10T11:31:49.633607",
     "exception": false,
     "start_time": "2025-09-10T11:31:49.619396",
     "status": "completed"
    },
    "tags": []
   },
   "outputs": [],
   "source": [
    "TARGET = \"y\"\n",
    "ID_COL = \"id\"\n",
    "\n",
    "# save test ids for submission\n",
    "test_ids = test[ID_COL].copy()"
   ]
  },
  {
   "cell_type": "code",
   "execution_count": 6,
   "id": "7a0cb2b4",
   "metadata": {
    "execution": {
     "iopub.execute_input": "2025-09-10T11:31:49.645915Z",
     "iopub.status.busy": "2025-09-10T11:31:49.645596Z",
     "iopub.status.idle": "2025-09-10T11:31:49.661342Z",
     "shell.execute_reply": "2025-09-10T11:31:49.660401Z"
    },
    "papermill": {
     "duration": 0.023492,
     "end_time": "2025-09-10T11:31:49.662770",
     "exception": false,
     "start_time": "2025-09-10T11:31:49.639278",
     "status": "completed"
    },
    "tags": []
   },
   "outputs": [
    {
     "name": "stdout",
     "output_type": "stream",
     "text": [
      "train shape: (750000, 18) test shape: (250000, 17)\n",
      "target distribution:\n",
      " y\n",
      "0    0.879349\n",
      "1    0.120651\n",
      "Name: proportion, dtype: float64\n"
     ]
    }
   ],
   "source": [
    "print(\"train shape:\", train.shape, \"test shape:\", test.shape)\n",
    "print(\"target distribution:\\n\", train[TARGET].value_counts(normalize=True))"
   ]
  },
  {
   "cell_type": "code",
   "execution_count": 7,
   "id": "d19434fe",
   "metadata": {
    "execution": {
     "iopub.execute_input": "2025-09-10T11:31:49.675961Z",
     "iopub.status.busy": "2025-09-10T11:31:49.675606Z",
     "iopub.status.idle": "2025-09-10T11:31:49.967420Z",
     "shell.execute_reply": "2025-09-10T11:31:49.966264Z"
    },
    "papermill": {
     "duration": 0.300727,
     "end_time": "2025-09-10T11:31:49.969052",
     "exception": false,
     "start_time": "2025-09-10T11:31:49.668325",
     "status": "completed"
    },
    "tags": []
   },
   "outputs": [
    {
     "data": {
      "image/png": "[encoded data removed]",
      "text/plain": [
       "<Figure size 600x400 with 1 Axes>"
      ]
     },
     "metadata": {},
     "output_type": "display_data"
    }
   ],
   "source": [
    "plt.figure(figsize=(6,4))\n",
    "sns.countplot(x=train[TARGET])\n",
    "plt.title(\"Target Distribution\")\n",
    "plt.xlabel(\"Target\")\n",
    "plt.ylabel(\"Count\")\n",
    "plt.show()"
   ]
  },
  {
   "cell_type": "markdown",
   "id": "222bcf0e",
   "metadata": {
    "papermill": {
     "duration": 0.005595,
     "end_time": "2025-09-10T11:31:49.980868",
     "exception": false,
     "start_time": "2025-09-10T11:31:49.975273",
     "status": "completed"
    },
    "tags": []
   },
   "source": [
    "This is a highly imbalanced dataset!\n"
   ]
  },
  {
   "cell_type": "code",
   "execution_count": 8,
   "id": "a41a6542",
   "metadata": {
    "execution": {
     "iopub.execute_input": "2025-09-10T11:31:49.994567Z",
     "iopub.status.busy": "2025-09-10T11:31:49.993480Z",
     "iopub.status.idle": "2025-09-10T11:31:50.344309Z",
     "shell.execute_reply": "2025-09-10T11:31:50.343060Z"
    },
    "papermill": {
     "duration": 0.359005,
     "end_time": "2025-09-10T11:31:50.345708",
     "exception": false,
     "start_time": "2025-09-10T11:31:49.986703",
     "status": "completed"
    },
    "tags": []
   },
   "outputs": [
    {
     "name": "stdout",
     "output_type": "stream",
     "text": [
      "<class 'pandas.core.frame.DataFrame'>\n",
      "RangeIndex: 750000 entries, 0 to 749999\n",
      "Data columns (total 18 columns):\n",
      " #   Column     Non-Null Count   Dtype \n",
      "---  ------     --------------   ----- \n",
      " 0   id         750000 non-null  int64 \n",
      " 1   age        750000 non-null  int64 \n",
      " 2   job        750000 non-null  object\n",
      " 3   marital    750000 non-null  object\n",
      " 4   education  750000 non-null  object\n",
      " 5   default    750000 non-null  object\n",
      " 6   balance    750000 non-null  int64 \n",
      " 7   housing    750000 non-null  object\n",
      " 8   loan       750000 non-null  object\n",
      " 9   contact    750000 non-null  object\n",
      " 10  day        750000 non-null  int64 \n",
      " 11  month      750000 non-null  object\n",
      " 12  duration   750000 non-null  int64 \n",
      " 13  campaign   750000 non-null  int64 \n",
      " 14  pdays      750000 non-null  int64 \n",
      " 15  previous   750000 non-null  int64 \n",
      " 16  poutcome   750000 non-null  object\n",
      " 17  y          750000 non-null  int64 \n",
      "dtypes: int64(9), object(9)\n",
      "memory usage: 103.0+ MB\n"
     ]
    }
   ],
   "source": [
    "train.info()"
   ]
  },
  {
   "cell_type": "markdown",
   "id": "52a42766",
   "metadata": {
    "papermill": {
     "duration": 0.006067,
     "end_time": "2025-09-10T11:31:50.358458",
     "exception": false,
     "start_time": "2025-09-10T11:31:50.352391",
     "status": "completed"
    },
    "tags": []
   },
   "source": [
    "Numeric (int64): id, age, balance, day, duration, campaign, pdays, previous, y\n",
    "\n",
    "Categorical (object): job, marital, education, default, housing, loan, contact, month, poutcome"
   ]
  },
  {
   "cell_type": "code",
   "execution_count": 9,
   "id": "00015f82",
   "metadata": {
    "execution": {
     "iopub.execute_input": "2025-09-10T11:31:50.371489Z",
     "iopub.status.busy": "2025-09-10T11:31:50.371137Z",
     "iopub.status.idle": "2025-09-10T11:31:51.240558Z",
     "shell.execute_reply": "2025-09-10T11:31:51.239339Z"
    },
    "papermill": {
     "duration": 0.877669,
     "end_time": "2025-09-10T11:31:51.241995",
     "exception": false,
     "start_time": "2025-09-10T11:31:50.364326",
     "status": "completed"
    },
    "tags": []
   },
   "outputs": [
    {
     "name": "stdout",
     "output_type": "stream",
     "text": [
      "Duplicates: 0\n",
      "\n",
      "Missing Values: id           0\n",
      "age          0\n",
      "job          0\n",
      "marital      0\n",
      "education    0\n",
      "default      0\n",
      "balance      0\n",
      "housing      0\n",
      "loan         0\n",
      "contact      0\n",
      "day          0\n",
      "month        0\n",
      "duration     0\n",
      "campaign     0\n",
      "pdays        0\n",
      "previous     0\n",
      "poutcome     0\n",
      "y            0\n",
      "dtype: int64\n"
     ]
    }
   ],
   "source": [
    "print(\"Duplicates:\", train.duplicated().sum())\n",
    "print(\"\\nMissing Values:\", train.isna().sum())\n"
   ]
  },
  {
   "cell_type": "markdown",
   "id": "f15b88f3",
   "metadata": {
    "papermill": {
     "duration": 0.005736,
     "end_time": "2025-09-10T11:31:51.253903",
     "exception": false,
     "start_time": "2025-09-10T11:31:51.248167",
     "status": "completed"
    },
    "tags": []
   },
   "source": [
    "Good, no duplicates or missing values"
   ]
  },
  {
   "cell_type": "code",
   "execution_count": 10,
   "id": "e0682794",
   "metadata": {
    "execution": {
     "iopub.execute_input": "2025-09-10T11:31:51.267381Z",
     "iopub.status.busy": "2025-09-10T11:31:51.267059Z",
     "iopub.status.idle": "2025-09-10T11:31:51.481015Z",
     "shell.execute_reply": "2025-09-10T11:31:51.480140Z"
    },
    "papermill": {
     "duration": 0.22254,
     "end_time": "2025-09-10T11:31:51.482554",
     "exception": false,
     "start_time": "2025-09-10T11:31:51.260014",
     "status": "completed"
    },
    "tags": []
   },
   "outputs": [
    {
     "data": {
      "text/html": [
       "<div>\n",
       "<style scoped>\n",
       "    .dataframe tbody tr th:only-of-type {\n",
       "        vertical-align: middle;\n",
       "    }\n",
       "\n",
       "    .dataframe tbody tr th {\n",
       "        vertical-align: top;\n",
       "    }\n",
       "\n",
       "    .dataframe thead th {\n",
       "        text-align: right;\n",
       "    }\n",
       "</style>\n",
       "<table border=\"1\" class=\"dataframe\">\n",
       "  <thead>\n",
       "    <tr style=\"text-align: right;\">\n",
       "      <th></th>\n",
       "      <th>id</th>\n",
       "      <th>age</th>\n",
       "      <th>balance</th>\n",
       "      <th>day</th>\n",
       "      <th>duration</th>\n",
       "      <th>campaign</th>\n",
       "      <th>pdays</th>\n",
       "      <th>previous</th>\n",
       "      <th>y</th>\n",
       "    </tr>\n",
       "  </thead>\n",
       "  <tbody>\n",
       "    <tr>\n",
       "      <th>count</th>\n",
       "      <td>750000.000000</td>\n",
       "      <td>750000.000000</td>\n",
       "      <td>750000.000000</td>\n",
       "      <td>750000.000000</td>\n",
       "      <td>750000.000000</td>\n",
       "      <td>750000.000000</td>\n",
       "      <td>750000.000000</td>\n",
       "      <td>750000.000000</td>\n",
       "      <td>750000.000000</td>\n",
       "    </tr>\n",
       "    <tr>\n",
       "      <th>mean</th>\n",
       "      <td>374999.500000</td>\n",
       "      <td>40.926395</td>\n",
       "      <td>1204.067397</td>\n",
       "      <td>16.117209</td>\n",
       "      <td>256.229144</td>\n",
       "      <td>2.577008</td>\n",
       "      <td>22.412733</td>\n",
       "      <td>0.298545</td>\n",
       "      <td>0.120651</td>\n",
       "    </tr>\n",
       "    <tr>\n",
       "      <th>std</th>\n",
       "      <td>216506.495284</td>\n",
       "      <td>10.098829</td>\n",
       "      <td>2836.096759</td>\n",
       "      <td>8.250832</td>\n",
       "      <td>272.555662</td>\n",
       "      <td>2.718514</td>\n",
       "      <td>77.319998</td>\n",
       "      <td>1.335926</td>\n",
       "      <td>0.325721</td>\n",
       "    </tr>\n",
       "    <tr>\n",
       "      <th>min</th>\n",
       "      <td>0.000000</td>\n",
       "      <td>18.000000</td>\n",
       "      <td>-8019.000000</td>\n",
       "      <td>1.000000</td>\n",
       "      <td>1.000000</td>\n",
       "      <td>1.000000</td>\n",
       "      <td>-1.000000</td>\n",
       "      <td>0.000000</td>\n",
       "      <td>0.000000</td>\n",
       "    </tr>\n",
       "    <tr>\n",
       "      <th>25%</th>\n",
       "      <td>187499.750000</td>\n",
       "      <td>33.000000</td>\n",
       "      <td>0.000000</td>\n",
       "      <td>9.000000</td>\n",
       "      <td>91.000000</td>\n",
       "      <td>1.000000</td>\n",
       "      <td>-1.000000</td>\n",
       "      <td>0.000000</td>\n",
       "      <td>0.000000</td>\n",
       "    </tr>\n",
       "    <tr>\n",
       "      <th>50%</th>\n",
       "      <td>374999.500000</td>\n",
       "      <td>39.000000</td>\n",
       "      <td>634.000000</td>\n",
       "      <td>17.000000</td>\n",
       "      <td>133.000000</td>\n",
       "      <td>2.000000</td>\n",
       "      <td>-1.000000</td>\n",
       "      <td>0.000000</td>\n",
       "      <td>0.000000</td>\n",
       "    </tr>\n",
       "    <tr>\n",
       "      <th>75%</th>\n",
       "      <td>562499.250000</td>\n",
       "      <td>48.000000</td>\n",
       "      <td>1390.000000</td>\n",
       "      <td>21.000000</td>\n",
       "      <td>361.000000</td>\n",
       "      <td>3.000000</td>\n",
       "      <td>-1.000000</td>\n",
       "      <td>0.000000</td>\n",
       "      <td>0.000000</td>\n",
       "    </tr>\n",
       "    <tr>\n",
       "      <th>max</th>\n",
       "      <td>749999.000000</td>\n",
       "      <td>95.000000</td>\n",
       "      <td>99717.000000</td>\n",
       "      <td>31.000000</td>\n",
       "      <td>4918.000000</td>\n",
       "      <td>63.000000</td>\n",
       "      <td>871.000000</td>\n",
       "      <td>200.000000</td>\n",
       "      <td>1.000000</td>\n",
       "    </tr>\n",
       "  </tbody>\n",
       "</table>\n",
       "</div>"
      ],
      "text/plain": [
       "                  id            age        balance            day  \\\n",
       "count  750000.000000  750000.000000  750000.000000  750000.000000   \n",
       "mean   374999.500000      40.926395    1204.067397      16.117209   \n",
       "std    216506.495284      10.098829    2836.096759       8.250832   \n",
       "min         0.000000      18.000000   -8019.000000       1.000000   \n",
       "25%    187499.750000      33.000000       0.000000       9.000000   \n",
       "50%    374999.500000      39.000000     634.000000      17.000000   \n",
       "75%    562499.250000      48.000000    1390.000000      21.000000   \n",
       "max    749999.000000      95.000000   99717.000000      31.000000   \n",
       "\n",
       "            duration       campaign          pdays       previous  \\\n",
       "count  750000.000000  750000.000000  750000.000000  750000.000000   \n",
       "mean      256.229144       2.577008      22.412733       0.298545   \n",
       "std       272.555662       2.718514      77.319998       1.335926   \n",
       "min         1.000000       1.000000      -1.000000       0.000000   \n",
       "25%        91.000000       1.000000      -1.000000       0.000000   \n",
       "50%       133.000000       2.000000      -1.000000       0.000000   \n",
       "75%       361.000000       3.000000      -1.000000       0.000000   \n",
       "max      4918.000000      63.000000     871.000000     200.000000   \n",
       "\n",
       "                   y  \n",
       "count  750000.000000  \n",
       "mean        0.120651  \n",
       "std         0.325721  \n",
       "min         0.000000  \n",
       "25%         0.000000  \n",
       "50%         0.000000  \n",
       "75%         0.000000  \n",
       "max         1.000000  "
      ]
     },
     "execution_count": 10,
     "metadata": {},
     "output_type": "execute_result"
    }
   ],
   "source": [
    "train.describe()"
   ]
  },
  {
   "cell_type": "markdown",
   "id": "8a3e2c00",
   "metadata": {
    "papermill": {
     "duration": 0.005952,
     "end_time": "2025-09-10T11:31:51.494836",
     "exception": false,
     "start_time": "2025-09-10T11:31:51.488884",
     "status": "completed"
    },
    "tags": []
   },
   "source": [
    "* Negative balance is normal in banking datasets and can carry important information.\n",
    "\n",
    "* In many banking datasets, duration can leak the target (long calls may indicate success)."
   ]
  },
  {
   "cell_type": "code",
   "execution_count": 11,
   "id": "eaabdf76",
   "metadata": {
    "execution": {
     "iopub.execute_input": "2025-09-10T11:31:51.508351Z",
     "iopub.status.busy": "2025-09-10T11:31:51.508038Z",
     "iopub.status.idle": "2025-09-10T11:31:51.512138Z",
     "shell.execute_reply": "2025-09-10T11:31:51.511282Z"
    },
    "papermill": {
     "duration": 0.012727,
     "end_time": "2025-09-10T11:31:51.513606",
     "exception": false,
     "start_time": "2025-09-10T11:31:51.500879",
     "status": "completed"
    },
    "tags": []
   },
   "outputs": [],
   "source": [
    "# Drop 'duration' from training and test datasets\n",
    "#train = train.drop(columns=['duration'])\n",
    "#test = test.drop(columns=['duration'])"
   ]
  },
  {
   "cell_type": "code",
   "execution_count": 12,
   "id": "927d09c3",
   "metadata": {
    "execution": {
     "iopub.execute_input": "2025-09-10T11:31:51.527748Z",
     "iopub.status.busy": "2025-09-10T11:31:51.527428Z",
     "iopub.status.idle": "2025-09-10T11:31:53.026034Z",
     "shell.execute_reply": "2025-09-10T11:31:53.025060Z"
    },
    "papermill": {
     "duration": 1.50733,
     "end_time": "2025-09-10T11:31:53.027592",
     "exception": false,
     "start_time": "2025-09-10T11:31:51.520262",
     "status": "completed"
    },
    "tags": []
   },
   "outputs": [
    {
     "data": {
      "image/png": "[encoded data removed]",
      "text/plain": [
       "<Figure size 1200x800 with 9 Axes>"
      ]
     },
     "metadata": {},
     "output_type": "display_data"
    }
   ],
   "source": [
    "num_features = ['age', 'balance', 'day', 'campaign', 'pdays', 'previous','duration']\n",
    "train[num_features].hist(bins=30, figsize=(12,8),color='Purple')\n",
    "plt.tight_layout()\n",
    "plt.show()"
   ]
  },
  {
   "cell_type": "code",
   "execution_count": 13,
   "id": "2faeaac1",
   "metadata": {
    "execution": {
     "iopub.execute_input": "2025-09-10T11:31:53.044713Z",
     "iopub.status.busy": "2025-09-10T11:31:53.043676Z",
     "iopub.status.idle": "2025-09-10T11:31:53.722616Z",
     "shell.execute_reply": "2025-09-10T11:31:53.721744Z"
    },
    "papermill": {
     "duration": 0.689664,
     "end_time": "2025-09-10T11:31:53.724957",
     "exception": false,
     "start_time": "2025-09-10T11:31:53.035293",
     "status": "completed"
    },
    "tags": []
   },
   "outputs": [
    {
     "data": {
      "image/png": "[encoded data removed]",
      "text/plain": [
       "<Figure size 1000x800 with 2 Axes>"
      ]
     },
     "metadata": {},
     "output_type": "display_data"
    }
   ],
   "source": [
    "# Include target 'y' in numeric features\n",
    "num_features = ['age', 'balance', 'day', 'campaign', 'pdays', 'previous', 'duration', 'y']\n",
    "\n",
    "corr_matrix = train[num_features].corr()\n",
    "\n",
    "plt.figure(figsize=(10,8))\n",
    "sns.heatmap(corr_matrix, annot=True, fmt=\".2f\", cmap='viridis')\n",
    "plt.title(\"Correlation Heatmap\")\n",
    "plt.show()"
   ]
  },
  {
   "cell_type": "markdown",
   "id": "15607bdc",
   "metadata": {
    "papermill": {
     "duration": 0.008195,
     "end_time": "2025-09-10T11:31:53.741991",
     "exception": false,
     "start_time": "2025-09-10T11:31:53.733796",
     "status": "completed"
    },
    "tags": []
   },
   "source": [
    "* No numeric feature is strongly correlated with the target. Tree-based models may still capture nonlinear patterns.\n",
    "  \n",
    "* Weak correlation with y suggests feature engineering or categorical features may be more important.\n",
    "\n",
    "* I will use tree-based models (Random Forest, XGBoost) to perform better."
   ]
  },
  {
   "cell_type": "code",
   "execution_count": 14,
   "id": "e0b5bd0f",
   "metadata": {
    "execution": {
     "iopub.execute_input": "2025-09-10T11:31:53.760544Z",
     "iopub.status.busy": "2025-09-10T11:31:53.759859Z",
     "iopub.status.idle": "2025-09-10T11:31:54.141844Z",
     "shell.execute_reply": "2025-09-10T11:31:54.140853Z"
    },
    "papermill": {
     "duration": 0.393211,
     "end_time": "2025-09-10T11:31:54.143617",
     "exception": false,
     "start_time": "2025-09-10T11:31:53.750406",
     "status": "completed"
    },
    "tags": []
   },
   "outputs": [],
   "source": [
    "X = train.drop(columns=[ID_COL, TARGET])\n",
    "X_test = test.drop(columns=[ID_COL])\n",
    "y = train[TARGET]\n",
    "\n",
    "X_train, X_val, y_train, y_val = train_test_split(X, y, test_size=0.2, random_state=42)"
   ]
  },
  {
   "cell_type": "code",
   "execution_count": 15,
   "id": "7f7d117d",
   "metadata": {
    "execution": {
     "iopub.execute_input": "2025-09-10T11:31:54.162865Z",
     "iopub.status.busy": "2025-09-10T11:31:54.162454Z",
     "iopub.status.idle": "2025-09-10T11:31:54.683710Z",
     "shell.execute_reply": "2025-09-10T11:31:54.682471Z"
    },
    "papermill": {
     "duration": 0.5361,
     "end_time": "2025-09-10T11:31:54.688509",
     "exception": false,
     "start_time": "2025-09-10T11:31:54.152409",
     "status": "completed"
    },
    "tags": []
   },
   "outputs": [
    {
     "name": "stdout",
     "output_type": "stream",
     "text": [
      "Value counts for job:\n",
      "job\n",
      "management       175541\n",
      "blue-collar      170498\n",
      "technician       138107\n",
      "admin.            81492\n",
      "services          64209\n",
      "retired           35185\n",
      "self-employed     19020\n",
      "entrepreneur      17718\n",
      "unemployed        17634\n",
      "housemaid         15912\n",
      "student           11767\n",
      "unknown            2917\n",
      "Name: count, dtype: int64\n",
      "------------------------------\n",
      "Value counts for marital:\n",
      "marital\n",
      "married     480759\n",
      "single      194834\n",
      "divorced     74407\n",
      "Name: count, dtype: int64\n",
      "------------------------------\n",
      "Value counts for education:\n",
      "education\n",
      "secondary    401683\n",
      "tertiary     227508\n",
      "primary       99510\n",
      "unknown       21299\n",
      "Name: count, dtype: int64\n",
      "------------------------------\n",
      "Value counts for default:\n",
      "default\n",
      "no     737151\n",
      "yes     12849\n",
      "Name: count, dtype: int64\n",
      "------------------------------\n",
      "Value counts for housing:\n",
      "housing\n",
      "yes    411288\n",
      "no     338712\n",
      "Name: count, dtype: int64\n",
      "------------------------------\n",
      "Value counts for loan:\n",
      "loan\n",
      "no     645023\n",
      "yes    104977\n",
      "Name: count, dtype: int64\n",
      "------------------------------\n",
      "Value counts for contact:\n",
      "contact\n",
      "cellular     486655\n",
      "unknown      231627\n",
      "telephone     31718\n",
      "Name: count, dtype: int64\n",
      "------------------------------\n",
      "Value counts for month:\n",
      "month\n",
      "may    228411\n",
      "aug    128859\n",
      "jul    110647\n",
      "jun     93670\n",
      "nov     66062\n",
      "apr     41319\n",
      "feb     37611\n",
      "jan     18937\n",
      "oct      9204\n",
      "sep      7409\n",
      "mar      5802\n",
      "dec      2069\n",
      "Name: count, dtype: int64\n",
      "------------------------------\n",
      "Value counts for poutcome:\n",
      "poutcome\n",
      "unknown    672450\n",
      "failure     45115\n",
      "success     17691\n",
      "other       14744\n",
      "Name: count, dtype: int64\n",
      "------------------------------\n"
     ]
    }
   ],
   "source": [
    "cat_features = [col for col in X.columns if col not in num_features]\n",
    "\n",
    "for col in cat_features:\n",
    "    print(f\"Value counts for {col}:\")\n",
    "    print(train[col].value_counts())\n",
    "    print(\"-\"*30)"
   ]
  },
  {
   "cell_type": "code",
   "execution_count": 16,
   "id": "769d29c7",
   "metadata": {
    "execution": {
     "iopub.execute_input": "2025-09-10T11:31:54.711894Z",
     "iopub.status.busy": "2025-09-10T11:31:54.711576Z",
     "iopub.status.idle": "2025-09-10T11:31:56.087322Z",
     "shell.execute_reply": "2025-09-10T11:31:56.086305Z"
    },
    "papermill": {
     "duration": 1.389513,
     "end_time": "2025-09-10T11:31:56.088932",
     "exception": false,
     "start_time": "2025-09-10T11:31:54.699419",
     "status": "completed"
    },
    "tags": []
   },
   "outputs": [],
   "source": [
    "# Encoding\n",
    "\n",
    "# Frequency Encoding: for high-cardinality categorical features\n",
    "freq_encode= ['job', 'month', 'poutcome'] # mostly unknown\n",
    "for col in freq_encode:\n",
    "    freq = X_train[col].value_counts()/ len(X_train)\n",
    "    X_train[col] = X_train[col].map(freq)\n",
    "    X_val[col] = X_val[col].map(freq)\n",
    "    X_test[col] = X_test[col].map(freq)\n",
    "\n",
    "#Label Encoding: for ordinal categorical columns\n",
    "label_encode = ['default', 'housing', 'loan']\n",
    "le = LabelEncoder()\n",
    "for col in label_encode:\n",
    "    X_train[col] = le.fit_transform(X_train[col])\n",
    "    X_val[col] = le.transform(X_val[col])\n",
    "    X_test[col] = le.transform(X_test[col])\n",
    "\n",
    "#One-Hot Encoding: for nominal categorical features\n",
    "one_hot_cols = ['marital', 'education', 'contact']\n",
    "X_train = pd.get_dummies(X_train, columns=one_hot_cols, drop_first=True)\n",
    "X_val = pd.get_dummies(X_val, columns=one_hot_cols, drop_first=True)\n",
    "X_test = pd.get_dummies(X_test, columns=one_hot_cols, drop_first=True)\n",
    "\n",
    "# Align columns to avoid mismatch between train/test/val\n",
    "X_val = X_val.reindex(columns=X_train.columns, fill_value=0)\n",
    "X_test = X_test.reindex(columns=X_train.columns, fill_value=0)"
   ]
  },
  {
   "cell_type": "markdown",
   "id": "9ee0cb04",
   "metadata": {
    "papermill": {
     "duration": 0.009691,
     "end_time": "2025-09-10T11:31:56.107877",
     "exception": false,
     "start_time": "2025-09-10T11:31:56.098186",
     "status": "completed"
    },
    "tags": []
   },
   "source": [
    "* Frequency Encoding: high-cardinality categorical features (job, month, poutcome)\n",
    "\n",
    "* Label Encoding: binary/few-category features (default, housing, loan)\n",
    "\n",
    "* One-Hot Encoding: nominal features with few categories (marital, education, contact)\n",
    "\n",
    "* Column alignment: prevents mismatch between train/val/test after one-hot encoding"
   ]
  },
  {
   "cell_type": "code",
   "execution_count": 17,
   "id": "cac73df0",
   "metadata": {
    "execution": {
     "iopub.execute_input": "2025-09-10T11:31:56.127308Z",
     "iopub.status.busy": "2025-09-10T11:31:56.126667Z",
     "iopub.status.idle": "2025-09-10T11:31:56.626224Z",
     "shell.execute_reply": "2025-09-10T11:31:56.625449Z"
    },
    "papermill": {
     "duration": 0.511016,
     "end_time": "2025-09-10T11:31:56.627781",
     "exception": false,
     "start_time": "2025-09-10T11:31:56.116765",
     "status": "completed"
    },
    "tags": []
   },
   "outputs": [],
   "source": [
    "# Scaling\n",
    "num_cols = X_train.select_dtypes(include=['int64', 'float64']).columns\n",
    "\n",
    "scaler = RobustScaler()\n",
    "X_train[num_cols] = scaler.fit_transform(X_train[num_cols])\n",
    "X_val[num_cols]   = scaler.transform(X_val[num_cols])\n",
    "X_test[num_cols] = scaler.transform(X_test[num_cols])"
   ]
  },
  {
   "cell_type": "code",
   "execution_count": 18,
   "id": "8cc3c119",
   "metadata": {
    "execution": {
     "iopub.execute_input": "2025-09-10T11:31:56.648131Z",
     "iopub.status.busy": "2025-09-10T11:31:56.647455Z",
     "iopub.status.idle": "2025-09-10T11:31:56.653037Z",
     "shell.execute_reply": "2025-09-10T11:31:56.652103Z"
    },
    "papermill": {
     "duration": 0.017244,
     "end_time": "2025-09-10T11:31:56.654410",
     "exception": false,
     "start_time": "2025-09-10T11:31:56.637166",
     "status": "completed"
    },
    "tags": []
   },
   "outputs": [
    {
     "name": "stdout",
     "output_type": "stream",
     "text": [
      "X_train: (600000, 20)  X_val: (150000, 20) X_test (250000, 20)\n"
     ]
    }
   ],
   "source": [
    "print(\"X_train:\", X_train.shape, \" X_val:\", X_val.shape, \"X_test\", X_test.shape)"
   ]
  },
  {
   "cell_type": "markdown",
   "id": "abf87523",
   "metadata": {
    "papermill": {
     "duration": 0.009252,
     "end_time": "2025-09-10T11:31:56.672881",
     "exception": false,
     "start_time": "2025-09-10T11:31:56.663629",
     "status": "completed"
    },
    "tags": []
   },
   "source": [
    "### **Train RandomForest and XGBoost**"
   ]
  },
  {
   "cell_type": "code",
   "execution_count": 19,
   "id": "090f08ea",
   "metadata": {
    "execution": {
     "iopub.execute_input": "2025-09-10T11:31:56.692801Z",
     "iopub.status.busy": "2025-09-10T11:31:56.692484Z",
     "iopub.status.idle": "2025-09-10T11:35:29.902195Z",
     "shell.execute_reply": "2025-09-10T11:35:29.900801Z"
    },
    "papermill": {
     "duration": 213.229102,
     "end_time": "2025-09-10T11:35:29.911003",
     "exception": false,
     "start_time": "2025-09-10T11:31:56.681901",
     "status": "completed"
    },
    "tags": []
   },
   "outputs": [
    {
     "name": "stdout",
     "output_type": "stream",
     "text": [
      "Random Forest Validation AUC: 0.9625167432559945\n",
      "Random Forest Classification Report:\n",
      "               precision    recall  f1-score   support\n",
      "\n",
      "           0       0.95      0.97      0.96    131795\n",
      "           1       0.77      0.63      0.69     18205\n",
      "\n",
      "    accuracy                           0.93    150000\n",
      "   macro avg       0.86      0.80      0.83    150000\n",
      "weighted avg       0.93      0.93      0.93    150000\n",
      "\n"
     ]
    }
   ],
   "source": [
    "# Train Random Forest\n",
    "rf = RandomForestClassifier(\n",
    "    n_estimators=200,\n",
    "    max_depth=None,\n",
    "    random_state=42,\n",
    "    class_weight='balanced'\n",
    ")\n",
    "rf.fit(X_train, y_train)\n",
    "\n",
    "# Random Forest validation predictions\n",
    "y_val_proba_rf = rf.predict_proba(X_val)[:,1]\n",
    "y_val_pred_rf = (y_val_proba_rf >= 0.5).astype(int)\n",
    "\n",
    "# Evaluation\n",
    "val_auc_rf = roc_auc_score(y_val, y_val_proba_rf)\n",
    "print(\"Random Forest Validation AUC:\", val_auc_rf)\n",
    "print(\"Random Forest Classification Report:\\n\", classification_report(y_val, y_val_pred_rf))"
   ]
  },
  {
   "cell_type": "code",
   "execution_count": 20,
   "id": "0faf13a2",
   "metadata": {
    "execution": {
     "iopub.execute_input": "2025-09-10T11:35:29.931383Z",
     "iopub.status.busy": "2025-09-10T11:35:29.931017Z",
     "iopub.status.idle": "2025-09-10T11:36:02.960294Z",
     "shell.execute_reply": "2025-09-10T11:36:02.959375Z"
    },
    "papermill": {
     "duration": 33.049612,
     "end_time": "2025-09-10T11:36:02.969853",
     "exception": false,
     "start_time": "2025-09-10T11:35:29.920241",
     "status": "completed"
    },
    "tags": []
   },
   "outputs": [
    {
     "name": "stdout",
     "output_type": "stream",
     "text": [
      "XGBoost Validation AUC: 0.96710453288488\n",
      "XGBoost Classification Report:\n",
      "               precision    recall  f1-score   support\n",
      "\n",
      "           0       0.96      0.97      0.96    131795\n",
      "           1       0.77      0.67      0.72     18205\n",
      "\n",
      "    accuracy                           0.94    150000\n",
      "   macro avg       0.86      0.82      0.84    150000\n",
      "weighted avg       0.93      0.94      0.93    150000\n",
      "\n"
     ]
    }
   ],
   "source": [
    "# Train XGBoost\n",
    "\n",
    "xgb_model = xgb.XGBClassifier(\n",
    "    n_estimators=500,\n",
    "    learning_rate=0.1,\n",
    "    max_depth=6,\n",
    "    random_state=42,\n",
    "    subsample=0.8,\n",
    "    colsample_bytree=0.8,\n",
    "    use_label_encoder=False,\n",
    "    eval_metric='auc',\n",
    "    n_jobs= -1,\n",
    "    early_stopping_rounds=50\n",
    ")\n",
    "\n",
    "# Fit with early stopping using validation set\n",
    "xgb_model.fit(\n",
    "    X_train, y_train,\n",
    "    eval_set=[(X_val, y_val)],\n",
    "    verbose=False\n",
    ")\n",
    "\n",
    "# XGBoost validation predictions\n",
    "y_val_proba_xgb = xgb_model.predict_proba(X_val)[:,1]\n",
    "y_val_pred_xgb = (y_val_proba_xgb >= 0.5).astype(int)\n",
    "\n",
    "# Evaluation\n",
    "val_auc_xgb = roc_auc_score(y_val, y_val_proba_xgb)\n",
    "print(\"XGBoost Validation AUC:\", val_auc_xgb)\n",
    "print(\"XGBoost Classification Report:\\n\", classification_report(y_val, y_val_pred_xgb))"
   ]
  },
  {
   "cell_type": "code",
   "execution_count": 21,
   "id": "c3ba0e2b",
   "metadata": {
    "execution": {
     "iopub.execute_input": "2025-09-10T11:36:02.989599Z",
     "iopub.status.busy": "2025-09-10T11:36:02.989305Z",
     "iopub.status.idle": "2025-09-10T11:36:03.265833Z",
     "shell.execute_reply": "2025-09-10T11:36:03.264860Z"
    },
    "papermill": {
     "duration": 0.288398,
     "end_time": "2025-09-10T11:36:03.267649",
     "exception": false,
     "start_time": "2025-09-10T11:36:02.979251",
     "status": "completed"
    },
    "tags": []
   },
   "outputs": [
    {
     "data": {
      "image/png": "[encoded data removed]",
      "text/plain": [
       "<Figure size 800x600 with 1 Axes>"
      ]
     },
     "metadata": {},
     "output_type": "display_data"
    }
   ],
   "source": [
    "# Plot ROC Curves\n",
    "fpr_rf, tpr_rf, _ = roc_curve(y_val, y_val_proba_rf)\n",
    "fpr_xgb, tpr_xgb, _ = roc_curve(y_val, y_val_proba_xgb)\n",
    "\n",
    "plt.figure(figsize=(8,6))\n",
    "plt.plot(fpr_rf, tpr_rf, label=f'Random Forest AUC = {val_auc_rf:.3f}')\n",
    "plt.plot(fpr_xgb, tpr_xgb, label=f'XGBoost AUC = {val_auc_xgb:.3f}')\n",
    "plt.plot([0,1],[0,1],'k--')\n",
    "plt.xlabel('False Positive Rate')\n",
    "plt.ylabel('True Positive Rate')\n",
    "plt.title('ROC Curve Comparison')\n",
    "plt.legend()\n",
    "plt.show()"
   ]
  },
  {
   "cell_type": "code",
   "execution_count": 22,
   "id": "cf948070",
   "metadata": {
    "execution": {
     "iopub.execute_input": "2025-09-10T11:36:03.289665Z",
     "iopub.status.busy": "2025-09-10T11:36:03.289372Z",
     "iopub.status.idle": "2025-09-10T11:36:03.489340Z",
     "shell.execute_reply": "2025-09-10T11:36:03.488266Z"
    },
    "papermill": {
     "duration": 0.212933,
     "end_time": "2025-09-10T11:36:03.491098",
     "exception": false,
     "start_time": "2025-09-10T11:36:03.278165",
     "status": "completed"
    },
    "tags": []
   },
   "outputs": [
    {
     "data": {
      "image/png": "[encoded data removed]",
      "text/plain": [
       "<Figure size 640x480 with 2 Axes>"
      ]
     },
     "metadata": {},
     "output_type": "display_data"
    }
   ],
   "source": [
    "# Confusion Matrix\n",
    "\n",
    "cm_xgb = confusion_matrix(y_val, y_val_pred_xgb)\n",
    "disp = ConfusionMatrixDisplay(confusion_matrix=cm_xgb)\n",
    "disp.plot(cmap=plt.cm.Blues)\n",
    "plt.title('XGBoost Confusion Matrix')\n",
    "plt.show()"
   ]
  },
  {
   "cell_type": "code",
   "execution_count": 23,
   "id": "dcde78fb",
   "metadata": {
    "execution": {
     "iopub.execute_input": "2025-09-10T11:36:03.513904Z",
     "iopub.status.busy": "2025-09-10T11:36:03.513585Z",
     "iopub.status.idle": "2025-09-10T11:36:05.109987Z",
     "shell.execute_reply": "2025-09-10T11:36:05.108977Z"
    },
    "papermill": {
     "duration": 1.610374,
     "end_time": "2025-09-10T11:36:05.112258",
     "exception": false,
     "start_time": "2025-09-10T11:36:03.501884",
     "status": "completed"
    },
    "tags": []
   },
   "outputs": [],
   "source": [
    "# Test Set Predictions\n",
    "xgb_test_probs = xgb_model.predict_proba(X_test)[:,1]\n",
    "xgb_test_pred = (xgb_test_probs >= 0.5).astype(int)"
   ]
  },
  {
   "cell_type": "code",
   "execution_count": 24,
   "id": "461714a9",
   "metadata": {
    "execution": {
     "iopub.execute_input": "2025-09-10T11:36:05.136551Z",
     "iopub.status.busy": "2025-09-10T11:36:05.136219Z",
     "iopub.status.idle": "2025-09-10T11:36:05.594150Z",
     "shell.execute_reply": "2025-09-10T11:36:05.592839Z"
    },
    "papermill": {
     "duration": 0.470786,
     "end_time": "2025-09-10T11:36:05.595813",
     "exception": false,
     "start_time": "2025-09-10T11:36:05.125027",
     "status": "completed"
    },
    "tags": []
   },
   "outputs": [
    {
     "name": "stdout",
     "output_type": "stream",
     "text": [
      "       id         y\n",
      "0  750000  0.001465\n",
      "1  750001  0.119311\n",
      "2  750002  0.000148\n",
      "3  750003  0.000033\n",
      "4  750004  0.021429\n"
     ]
    }
   ],
   "source": [
    "# Create submission file\n",
    "sub_xgb = pd.DataFrame({ID_COL: test_ids, TARGET: xgb_test_probs})\n",
    "sub_xgb.to_csv(\"submission.csv\", index=False)\n",
    "print(sub_xgb.head())"
   ]
  }
 ],
 "metadata": {
  "kaggle": {
   "accelerator": "none",
   "dataSources": [
    {
     "databundleVersionId": 12937777,
     "sourceId": 91719,
     "sourceType": "competition"
    }
   ],
   "dockerImageVersionId": 31089,
   "isGpuEnabled": false,
   "isInternetEnabled": false,
   "language": "python",
   "sourceType": "notebook"
  },
  "kernelspec": {
   "display_name": "Python 3",
   "language": "python",
   "name": "python3"
  },
  "language_info": {
   "codemirror_mode": {
    "name": "ipython",
    "version": 3
   },
   "file_extension": ".py",
   "mimetype": "text/x-python",
   "name": "python",
   "nbconvert_exporter": "python",
   "pygments_lexer": "ipython3",
   "version": "3.11.13"
  },
  "papermill": {
   "default_parameters": {},
   "duration": 271.334634,
   "end_time": "2025-09-10T11:36:06.530187",
   "environment_variables": {},
   "exception": null,
   "input_path": "__notebook__.ipynb",
   "output_path": "__notebook__.ipynb",
   "parameters": {},
   "start_time": "2025-09-10T11:31:35.195553",
   "version": "2.6.0"
  }
 },
 "nbformat": 4,
 "nbformat_minor": 5
}
